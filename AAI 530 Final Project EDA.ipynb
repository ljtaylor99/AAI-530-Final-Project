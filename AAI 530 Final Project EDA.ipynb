{
 "cells": [
  {
   "cell_type": "markdown",
   "metadata": {},
   "source": [
    "# AAI 530 IoT Final Project EDA"
   ]
  },
  {
   "cell_type": "code",
   "execution_count": null,
   "metadata": {},
   "outputs": [],
   "source": [
    "# Import Packages\n",
    "\n",
    "import pandas as pd\n",
    "import matplotlib.pyplot as plt\n",
    "import seaborn as sns\n",
    "from datetime import datetime as dt\n"
   ]
  },
  {
   "cell_type": "code",
   "execution_count": null,
   "metadata": {},
   "outputs": [],
   "source": [
    "# Read a csv to begin exploring data \n",
    "apr_df = pd.read_csv(\"uber-raw-data-apr14.csv\")\n",
    "apr_df.head()"
   ]
  },
  {
   "cell_type": "code",
   "execution_count": null,
   "metadata": {},
   "outputs": [],
   "source": [
    "# Print rows with null values\n",
    "apr_df[apr_df.isna().any(axis=1)]"
   ]
  },
  {
   "cell_type": "code",
   "execution_count": null,
   "metadata": {},
   "outputs": [],
   "source": [
    "# Format Date/Time column into datetime object\n",
    "\n",
    "apr_df['Date/Time'] =  pd.to_datetime(apr_df['Date/Time'])\n",
    "\n",
    "# Create new columns with day of month, time, and day of week\n",
    "apr_df['Day'] = apr_df['Date/Time'].dt.day\n",
    "apr_df['Time'] = apr_df['Date/Time'].dt.time\n",
    "apr_df['Day_week'] = apr_df['Date/Time'].dt.dayofweek\n",
    "apr_df.head()\n"
   ]
  },
  {
   "cell_type": "code",
   "execution_count": null,
   "metadata": {},
   "outputs": [],
   "source": [
    "plt.scatter(apr_df['Lat'],apr_df['Lon'])\n",
    "plt.xlabel('Lattitude')\n",
    "plt.ylabel('Longitude')\n",
    "plt.title('Pickup Locations')"
   ]
  },
  {
   "cell_type": "code",
   "execution_count": null,
   "metadata": {},
   "outputs": [],
   "source": [
    "sns.countplot(x = apr_df['Base'])"
   ]
  },
  {
   "cell_type": "code",
   "execution_count": null,
   "metadata": {},
   "outputs": [],
   "source": [
    "apr_df['Day_week'].describe()"
   ]
  },
  {
   "cell_type": "code",
   "execution_count": null,
   "metadata": {},
   "outputs": [],
   "source": [
    "# Plot weekday counts, 0 = monday to 6 = Sunday\n",
    "sns.countplot(x = apr_df['Day_week'])\n",
    "plt.ylabel(\"Number of Rides\")\n",
    "plt.xlabel(\"Day of Week\")\n",
    "plt.title(\"Number of Rides By Weekday\")"
   ]
  },
  {
   "cell_type": "code",
   "execution_count": null,
   "metadata": {},
   "outputs": [],
   "source": [
    "# Plot change in rides throughout month\n",
    "sns.histplot(x = apr_df['Day'],element = 'poly',fill = False)\n",
    "plt.ylabel(\"Number of Rides\")\n",
    "plt.title(\"Number of Rides in April\")"
   ]
  }
 ],
 "metadata": {
  "interpreter": {
   "hash": "40d3a090f54c6569ab1632332b64b2c03c39dcf918b08424e98f38b5ae0af88f"
  },
  "kernelspec": {
   "display_name": "Python 3.7.15 ('base')",
   "language": "python",
   "name": "python3"
  },
  "language_info": {
   "codemirror_mode": {
    "name": "ipython",
    "version": 3
   },
   "file_extension": ".py",
   "mimetype": "text/x-python",
   "name": "python",
   "nbconvert_exporter": "python",
   "pygments_lexer": "ipython3",
   "version": "3.7.15"
  },
  "orig_nbformat": 4
 },
 "nbformat": 4,
 "nbformat_minor": 2
}
